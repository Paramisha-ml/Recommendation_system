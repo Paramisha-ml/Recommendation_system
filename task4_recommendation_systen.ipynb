{
  "nbformat": 4,
  "nbformat_minor": 0,
  "metadata": {
    "colab": {
      "provenance": []
    },
    "kernelspec": {
      "name": "python3",
      "display_name": "Python 3"
    },
    "language_info": {
      "name": "python"
    }
  },
  "cells": [
    {
      "cell_type": "code",
      "source": [
        "pip install scikit-surprise\n"
      ],
      "metadata": {
        "colab": {
          "base_uri": "https://localhost:8080/"
        },
        "id": "kJbGYrVzx0gV",
        "outputId": "a92bc884-df87-4888-e9b2-7c7a6c65b1f8"
      },
      "execution_count": 4,
      "outputs": [
        {
          "output_type": "stream",
          "name": "stdout",
          "text": [
            "Requirement already satisfied: scikit-surprise in /usr/local/lib/python3.11/dist-packages (1.1.4)\n",
            "Requirement already satisfied: joblib>=1.2.0 in /usr/local/lib/python3.11/dist-packages (from scikit-surprise) (1.4.2)\n",
            "Requirement already satisfied: numpy>=1.19.5 in /usr/local/lib/python3.11/dist-packages (from scikit-surprise) (1.26.4)\n",
            "Requirement already satisfied: scipy>=1.6.0 in /usr/local/lib/python3.11/dist-packages (from scikit-surprise) (1.13.1)\n"
          ]
        }
      ]
    },
    {
      "cell_type": "code",
      "source": [
        "import pandas as pd\n",
        "from surprise import Dataset, Reader, SVD  # this is for recommendation model using matrix factorization\n",
        "from surprise.model_selection import train_test_split  # split data\n",
        "from surprise import accuracy  # to check accuracy\n",
        "import matplotlib.pyplot as plt\n",
        "\n",
        "# this is the movie review dataset that i have prepared\n",
        "path = \"/content/drive/MyDrive/dataset /movie_dataset.csv\"\n",
        "\n",
        "# Load Excel file\n",
        "df = pd.read_csv(path)\n",
        "print(df) #this is to display my datset"
      ],
      "metadata": {
        "colab": {
          "base_uri": "https://localhost:8080/"
        },
        "id": "jGN1RvLaukvX",
        "outputId": "b52be0cf-cb67-4e18-8627-36f5bc827725"
      },
      "execution_count": 6,
      "outputs": [
        {
          "output_type": "stream",
          "name": "stdout",
          "text": [
            "  User           Movie  Rating\n",
            "0    A        Avengers       5\n",
            "1    A        Iron Man       4\n",
            "2    B        Iron Man       5\n",
            "3    B            Thor       4\n",
            "4    C            Thor       5\n",
            "5    C            Hulk       2\n",
            "6    D            Hulk       3\n",
            "7    D   Black Panther       4\n",
            "8    E        Avengers       4\n",
            "9    E  Captain Marvel       3\n"
          ]
        }
      ]
    },
    {
      "cell_type": "code",
      "source": [
        "# surprise\n",
        "reader = Reader(rating_scale=(1, 5))  # this is because in the my datset reviews are from 1 to 5\n",
        "data = Dataset.load_from_df(df[['User', 'Movie', 'Rating']], reader)\n",
        "\n",
        "# Split into training and testing data\n",
        "trainset, testset = train_test_split(data, test_size=0.2, random_state=42)\n",
        "\n",
        "# for matrix factorization : svd\n",
        "model = SVD()\n",
        "model.fit(trainset)  # training the model\n"
      ],
      "metadata": {
        "colab": {
          "base_uri": "https://localhost:8080/"
        },
        "id": "QVvyJu-cxCiN",
        "outputId": "7dbc0ae7-b1a2-4e01-edb4-427880255867"
      },
      "execution_count": 8,
      "outputs": [
        {
          "output_type": "execute_result",
          "data": {
            "text/plain": [
              "<surprise.prediction_algorithms.matrix_factorization.SVD at 0x7d552a168950>"
            ]
          },
          "metadata": {},
          "execution_count": 8
        }
      ]
    },
    {
      "cell_type": "code",
      "source": [
        "# Test the model on test data\n",
        "predictions = model.test(testset)\n",
        "\n",
        "# for Evaluation metric: RMSE (Root Mean Squared Error)\n",
        "rmse = accuracy.rmse(predictions)\n",
        "\n",
        "# Predict rating for a new movie for user A\n",
        "user = 'A'\n",
        "movie = 'Black Panther'  # the movie for which i have to predict the revies\n",
        "pred = model.predict(user, movie)\n",
        "\n",
        "print(f\"Predicted rating for {user} -> {movie} : {round(pred.est, 2)} ⭐\")\n",
        "\n",
        "# Final recommendation will be printed now\n",
        "if pred.est >= 4:\n",
        "    print(\"Recommended: Yes ✔️\")\n",
        "else:\n",
        "    print(\"Recommended: No ❌\")\n"
      ],
      "metadata": {
        "colab": {
          "base_uri": "https://localhost:8080/"
        },
        "id": "VSVVx9HNxLnf",
        "outputId": "cf53dcc4-f40a-4486-9d4c-e1c52bf45a22"
      },
      "execution_count": 10,
      "outputs": [
        {
          "output_type": "stream",
          "name": "stdout",
          "text": [
            "RMSE: 0.5342\n",
            "Predicted rating for A -> Black Panther : 4.17 ⭐\n",
            "Recommended: Yes ✔️\n"
          ]
        }
      ]
    }
  ]
}